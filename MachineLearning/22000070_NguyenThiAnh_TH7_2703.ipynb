{
 "cells": [
  {
   "cell_type": "markdown",
   "id": "86d3de0976cc34e8",
   "metadata": {},
   "source": [
    "## MACHINE LEARNING: BÀI THỰC HÀNH PHẦN MÔ HÌNH PERCEPTRON."
   ]
  },
  {
   "cell_type": "markdown",
   "id": "5b6651da24396f3",
   "metadata": {},
   "source": [
    "### Ví dụ 1."
   ]
  },
  {
   "cell_type": "code",
   "execution_count": 95,
   "id": "initial_id",
   "metadata": {
    "ExecuteTime": {
     "end_time": "2025-04-02T08:24:08.731123Z",
     "start_time": "2025-04-02T08:24:08.722050Z"
    },
    "collapsed": true
   },
   "outputs": [],
   "source": [
    "import numpy as np\n",
    "import matplotlib.pyplot as plt"
   ]
  },
  {
   "cell_type": "code",
   "execution_count": 96,
   "id": "13d35a70333c855e",
   "metadata": {
    "ExecuteTime": {
     "end_time": "2025-04-02T08:24:09.528057Z",
     "start_time": "2025-04-02T08:24:09.460938Z"
    }
   },
   "outputs": [],
   "source": [
    "np.random.seed(2)\n",
    "means = [[2, 2], [4, 2]]\n",
    "cov = [[.3, .2], [.2, .3]]\n",
    "N = 30\n",
    "X0 = np.random.multivariate_normal(means[0], cov, N).T\n",
    "X1 = np.random.multivariate_normal(means[1], cov, N).T\n",
    "X = np.concatenate((X0, X1), axis=1)\n",
    "y = np.concatenate((np.ones((1, N)), -1 * np.ones((1, N))), axis=1)\n",
    "# Xbar\n",
    "X = np.concatenate((np.ones((1, 2 * N)), X), axis=0)"
   ]
  },
  {
   "cell_type": "code",
   "execution_count": 97,
   "id": "b80d699d06a7f984",
   "metadata": {
    "ExecuteTime": {
     "end_time": "2025-04-02T08:24:10.895476Z",
     "start_time": "2025-04-02T08:24:10.690238Z"
    }
   },
   "outputs": [
    {
     "data": {
      "image/png": "[encoded data removed]",
      "text/plain": [
       "<Figure size 500x500 with 1 Axes>"
      ]
     },
     "metadata": {},
     "output_type": "display_data"
    }
   ],
   "source": [
    "fig, ax = plt.subplots(figsize=(5, 5))\n",
    "ani = plt.cla()\n",
    "#plot points\n",
    "ani = plt.plot(X0[0, :], X0[1, :], 'b^', markersize=8, alpha=.8)\n",
    "ani = plt.plot(X1[0, :], X1[1, :], 'ro', markersize=8, alpha=.8)\n",
    "ani = plt.axis([0, 6, -2, 4])\n",
    "plt.show()"
   ]
  },
  {
   "cell_type": "code",
   "execution_count": 98,
   "id": "88ab61506ac394dc",
   "metadata": {
    "ExecuteTime": {
     "end_time": "2025-04-02T08:24:11.478927Z",
     "start_time": "2025-04-02T08:24:11.470983Z"
    }
   },
   "outputs": [],
   "source": [
    "# Define h_w(x):= W^T.x + w_0 = \\bar{W}^T . \\bar{x}\n",
    "def h(w, x):\n",
    "    return np.sign(np.dot(w.T, x))"
   ]
  },
  {
   "cell_type": "code",
   "execution_count": 99,
   "id": "e7c5e17cb9a7e453",
   "metadata": {
    "ExecuteTime": {
     "end_time": "2025-04-02T08:24:12.283808Z",
     "start_time": "2025-04-02T08:24:12.268871Z"
    }
   },
   "outputs": [],
   "source": [
    "def has_converged(X, y, w):\n",
    "    return np.array_equal(h(w, X), y)  #True if h(w, X) == y else False"
   ]
  },
  {
   "cell_type": "code",
   "execution_count": 100,
   "id": "7fc239ca3e1883b3",
   "metadata": {
    "ExecuteTime": {
     "end_time": "2025-04-02T08:24:13.058560Z",
     "start_time": "2025-04-02T08:24:13.048532Z"
    }
   },
   "outputs": [],
   "source": [
    "def perceptron(X, y, w_init):\n",
    "    w = [w_init]\n",
    "    N = X.shape[1]\n",
    "    mis_points = []  # set of miss"
   ]
  },
  {
   "cell_type": "code",
   "execution_count": 101,
   "id": "91d6d106fed5e0e0",
   "metadata": {
    "ExecuteTime": {
     "end_time": "2025-04-02T08:24:13.976236Z",
     "start_time": "2025-04-02T08:24:13.965044Z"
    }
   },
   "outputs": [],
   "source": [
    "def perceptron(X, y, w_init):\n",
    "    w = [w_init]\n",
    "    N = X.shape[1]\n",
    "    mis_points = []  # set of miss position points\n",
    "    while True:\n",
    "        mix_id = np.random.permutation(N)\n",
    "        for i in range(N):\n",
    "            xi = X[:, mix_id[i]].reshape(3, 1)\n",
    "            yi = y[0, mix_id[i]]\n",
    "            if h(w[-1], xi)[0] != yi:\n",
    "                mis_points.append(mix_id[i])\n",
    "                w_new = w[-1] + yi * xi\n",
    "\n",
    "                w.append(w_new)\n",
    "\n",
    "        if has_converged(X, y, w[-1]):\n",
    "            break\n",
    "\n",
    "    return (w, mis_points)\n"
   ]
  },
  {
   "cell_type": "code",
   "execution_count": 102,
   "id": "c93cd4006cd6e468",
   "metadata": {
    "ExecuteTime": {
     "end_time": "2025-04-02T08:24:15.151654Z",
     "start_time": "2025-04-02T08:24:15.121303Z"
    }
   },
   "outputs": [
    {
     "name": "stdout",
     "output_type": "stream",
     "text": [
      "[[ 13.97858527]\n",
      " [-15.02901929]\n",
      " [ 14.38743059]]\n"
     ]
    }
   ],
   "source": [
    "d = X.shape[0]\n",
    "w_init = np.random.randn(d, 1)\n",
    "(w, m) = perceptron(X, y, w_init)\n",
    "print(w[-1])"
   ]
  },
  {
   "cell_type": "code",
   "execution_count": 103,
   "id": "80a54bdb6713a48b",
   "metadata": {
    "ExecuteTime": {
     "end_time": "2025-04-02T08:24:16.171031Z",
     "start_time": "2025-04-02T08:24:16.160098Z"
    }
   },
   "outputs": [],
   "source": [
    "def draw_line(w):\n",
    "    w0, w1, w2 = w[0], w[1], w[2]\n",
    "    if w2 != 0:\n",
    "        x11, x12 = -100, 100\n",
    "        return plt.plot([x11, x12], [-(w1 * x11 + w0) / w2, -(w1 * x12 + w0) / w2], 'k')\n",
    "    else:\n",
    "        x10 = -w0 / w1\n",
    "        return plt.plot([x10, x10], [-100, 100], 'k')\n"
   ]
  },
  {
   "cell_type": "code",
   "execution_count": 104,
   "id": "3b9d020bfc4bc8cd",
   "metadata": {
    "ExecuteTime": {
     "end_time": "2025-04-02T08:24:19.183951Z",
     "start_time": "2025-04-02T08:24:16.945589Z"
    }
   },
   "outputs": [
    {
     "name": "stderr",
     "output_type": "stream",
     "text": [
      "MovieWriter imagemagick unavailable; using Pillow instead.\n"
     ]
    },
    {
     "data": {
      "image/png": "[encoded data removed]",
      "text/plain": [
       "<Figure size 500x500 with 1 Axes>"
      ]
     },
     "metadata": {},
     "output_type": "display_data"
    }
   ],
   "source": [
    "import matplotlib.animation as animation\n",
    "from matplotlib.animation import FuncAnimation\n",
    "\n",
    "\n",
    "def viz_alg_1d_2(w):\n",
    "    it = len(w)\n",
    "    fig, ax = plt.subplots(figsize=(5, 5))\n",
    "\n",
    "    def update(i):\n",
    "        ani = plt.cla()\n",
    "        #points\n",
    "        ani = plt.plot(X0[0, :], X0[1, :], 'b^', markersize=8, alpha=.8)\n",
    "        ani = plt.plot(X1[0, :], X1[1, :], 'ro', markersize=8, alpha=.8)\n",
    "        ani = plt.axis([0, 6, -2, 4])\n",
    "        i2 = i if i < it else it - 1\n",
    "        ani = draw_line(w[i2])\n",
    "\n",
    "        if i < it - 1:\n",
    "    # draw one misclassified point\n",
    "\n",
    "\n",
    "            circle = plt.Circle((X[1, m[i]], X[2, m[i]]), 0.15, color='k', fill=\n",
    "            False)\n",
    "            ax.add_artist(circle)\n",
    "        cur_axes = plt.gca()\n",
    "        cur_axes.axes.get_xaxis().set_ticks([])\n",
    "        cur_axes.axes.get_yaxis().set_ticks([])\n",
    "        label = 'PLA: iter %d/%d' % (i2, it - 1)\n",
    "        ax.set_xlabel(label)\n",
    "        return ani, ax\n",
    "    anim = FuncAnimation(fig, update, frames=np.arange(0, it + 2), interval=1000)\n",
    "    # save\n",
    "    anim.save('D:\\\\pla_vis.gif', dpi=100, writer='imagemagick')\n",
    "    plt.show()\n",
    "viz_alg_1d_2(w)"
   ]
  },
  {
   "cell_type": "markdown",
   "id": "e2fbb919b9c8638f",
   "metadata": {},
   "source": [
    "### Ví dụ 2."
   ]
  },
  {
   "cell_type": "code",
   "execution_count": 105,
   "id": "3c5627c909c7af78",
   "metadata": {
    "ExecuteTime": {
     "end_time": "2025-04-02T08:24:22.204474Z",
     "start_time": "2025-04-02T08:24:21.885454Z"
    }
   },
   "outputs": [],
   "source": [
    "import pandas as pd\n",
    "import numpy as np\n",
    "import time"
   ]
  },
  {
   "cell_type": "code",
   "execution_count": 106,
   "id": "a0a715d7e65b0aa3",
   "metadata": {
    "ExecuteTime": {
     "end_time": "2025-04-02T08:24:22.574004Z",
     "start_time": "2025-04-02T08:24:22.547786Z"
    }
   },
   "outputs": [
    {
     "data": {
      "text/html": [
       "<div>\n",
       "<style scoped>\n",
       "    .dataframe tbody tr th:only-of-type {\n",
       "        vertical-align: middle;\n",
       "    }\n",
       "\n",
       "    .dataframe tbody tr th {\n",
       "        vertical-align: top;\n",
       "    }\n",
       "\n",
       "    .dataframe thead th {\n",
       "        text-align: right;\n",
       "    }\n",
       "</style>\n",
       "<table border=\"1\" class=\"dataframe\">\n",
       "  <thead>\n",
       "    <tr style=\"text-align: right;\">\n",
       "      <th></th>\n",
       "      <th>0</th>\n",
       "      <th>1</th>\n",
       "      <th>2</th>\n",
       "      <th>3</th>\n",
       "      <th>4</th>\n",
       "      <th>5</th>\n",
       "      <th>6</th>\n",
       "      <th>7</th>\n",
       "      <th>8</th>\n",
       "      <th>9</th>\n",
       "      <th>...</th>\n",
       "      <th>51</th>\n",
       "      <th>52</th>\n",
       "      <th>53</th>\n",
       "      <th>54</th>\n",
       "      <th>55</th>\n",
       "      <th>56</th>\n",
       "      <th>57</th>\n",
       "      <th>58</th>\n",
       "      <th>59</th>\n",
       "      <th>60</th>\n",
       "    </tr>\n",
       "  </thead>\n",
       "  <tbody>\n",
       "    <tr>\n",
       "      <th>0</th>\n",
       "      <td>0.0200</td>\n",
       "      <td>0.0371</td>\n",
       "      <td>0.0428</td>\n",
       "      <td>0.0207</td>\n",
       "      <td>0.0954</td>\n",
       "      <td>0.0986</td>\n",
       "      <td>0.1539</td>\n",
       "      <td>0.1601</td>\n",
       "      <td>0.3109</td>\n",
       "      <td>0.2111</td>\n",
       "      <td>...</td>\n",
       "      <td>0.0027</td>\n",
       "      <td>0.0065</td>\n",
       "      <td>0.0159</td>\n",
       "      <td>0.0072</td>\n",
       "      <td>0.0167</td>\n",
       "      <td>0.0180</td>\n",
       "      <td>0.0084</td>\n",
       "      <td>0.0090</td>\n",
       "      <td>0.0032</td>\n",
       "      <td>R</td>\n",
       "    </tr>\n",
       "    <tr>\n",
       "      <th>1</th>\n",
       "      <td>0.0453</td>\n",
       "      <td>0.0523</td>\n",
       "      <td>0.0843</td>\n",
       "      <td>0.0689</td>\n",
       "      <td>0.1183</td>\n",
       "      <td>0.2583</td>\n",
       "      <td>0.2156</td>\n",
       "      <td>0.3481</td>\n",
       "      <td>0.3337</td>\n",
       "      <td>0.2872</td>\n",
       "      <td>...</td>\n",
       "      <td>0.0084</td>\n",
       "      <td>0.0089</td>\n",
       "      <td>0.0048</td>\n",
       "      <td>0.0094</td>\n",
       "      <td>0.0191</td>\n",
       "      <td>0.0140</td>\n",
       "      <td>0.0049</td>\n",
       "      <td>0.0052</td>\n",
       "      <td>0.0044</td>\n",
       "      <td>R</td>\n",
       "    </tr>\n",
       "    <tr>\n",
       "      <th>2</th>\n",
       "      <td>0.0262</td>\n",
       "      <td>0.0582</td>\n",
       "      <td>0.1099</td>\n",
       "      <td>0.1083</td>\n",
       "      <td>0.0974</td>\n",
       "      <td>0.2280</td>\n",
       "      <td>0.2431</td>\n",
       "      <td>0.3771</td>\n",
       "      <td>0.5598</td>\n",
       "      <td>0.6194</td>\n",
       "      <td>...</td>\n",
       "      <td>0.0232</td>\n",
       "      <td>0.0166</td>\n",
       "      <td>0.0095</td>\n",
       "      <td>0.0180</td>\n",
       "      <td>0.0244</td>\n",
       "      <td>0.0316</td>\n",
       "      <td>0.0164</td>\n",
       "      <td>0.0095</td>\n",
       "      <td>0.0078</td>\n",
       "      <td>R</td>\n",
       "    </tr>\n",
       "    <tr>\n",
       "      <th>3</th>\n",
       "      <td>0.0100</td>\n",
       "      <td>0.0171</td>\n",
       "      <td>0.0623</td>\n",
       "      <td>0.0205</td>\n",
       "      <td>0.0205</td>\n",
       "      <td>0.0368</td>\n",
       "      <td>0.1098</td>\n",
       "      <td>0.1276</td>\n",
       "      <td>0.0598</td>\n",
       "      <td>0.1264</td>\n",
       "      <td>...</td>\n",
       "      <td>0.0121</td>\n",
       "      <td>0.0036</td>\n",
       "      <td>0.0150</td>\n",
       "      <td>0.0085</td>\n",
       "      <td>0.0073</td>\n",
       "      <td>0.0050</td>\n",
       "      <td>0.0044</td>\n",
       "      <td>0.0040</td>\n",
       "      <td>0.0117</td>\n",
       "      <td>R</td>\n",
       "    </tr>\n",
       "    <tr>\n",
       "      <th>4</th>\n",
       "      <td>0.0762</td>\n",
       "      <td>0.0666</td>\n",
       "      <td>0.0481</td>\n",
       "      <td>0.0394</td>\n",
       "      <td>0.0590</td>\n",
       "      <td>0.0649</td>\n",
       "      <td>0.1209</td>\n",
       "      <td>0.2467</td>\n",
       "      <td>0.3564</td>\n",
       "      <td>0.4459</td>\n",
       "      <td>...</td>\n",
       "      <td>0.0031</td>\n",
       "      <td>0.0054</td>\n",
       "      <td>0.0105</td>\n",
       "      <td>0.0110</td>\n",
       "      <td>0.0015</td>\n",
       "      <td>0.0072</td>\n",
       "      <td>0.0048</td>\n",
       "      <td>0.0107</td>\n",
       "      <td>0.0094</td>\n",
       "      <td>R</td>\n",
       "    </tr>\n",
       "    <tr>\n",
       "      <th>...</th>\n",
       "      <td>...</td>\n",
       "      <td>...</td>\n",
       "      <td>...</td>\n",
       "      <td>...</td>\n",
       "      <td>...</td>\n",
       "      <td>...</td>\n",
       "      <td>...</td>\n",
       "      <td>...</td>\n",
       "      <td>...</td>\n",
       "      <td>...</td>\n",
       "      <td>...</td>\n",
       "      <td>...</td>\n",
       "      <td>...</td>\n",
       "      <td>...</td>\n",
       "      <td>...</td>\n",
       "      <td>...</td>\n",
       "      <td>...</td>\n",
       "      <td>...</td>\n",
       "      <td>...</td>\n",
       "      <td>...</td>\n",
       "      <td>...</td>\n",
       "    </tr>\n",
       "    <tr>\n",
       "      <th>203</th>\n",
       "      <td>0.0187</td>\n",
       "      <td>0.0346</td>\n",
       "      <td>0.0168</td>\n",
       "      <td>0.0177</td>\n",
       "      <td>0.0393</td>\n",
       "      <td>0.1630</td>\n",
       "      <td>0.2028</td>\n",
       "      <td>0.1694</td>\n",
       "      <td>0.2328</td>\n",
       "      <td>0.2684</td>\n",
       "      <td>...</td>\n",
       "      <td>0.0116</td>\n",
       "      <td>0.0098</td>\n",
       "      <td>0.0199</td>\n",
       "      <td>0.0033</td>\n",
       "      <td>0.0101</td>\n",
       "      <td>0.0065</td>\n",
       "      <td>0.0115</td>\n",
       "      <td>0.0193</td>\n",
       "      <td>0.0157</td>\n",
       "      <td>M</td>\n",
       "    </tr>\n",
       "    <tr>\n",
       "      <th>204</th>\n",
       "      <td>0.0323</td>\n",
       "      <td>0.0101</td>\n",
       "      <td>0.0298</td>\n",
       "      <td>0.0564</td>\n",
       "      <td>0.0760</td>\n",
       "      <td>0.0958</td>\n",
       "      <td>0.0990</td>\n",
       "      <td>0.1018</td>\n",
       "      <td>0.1030</td>\n",
       "      <td>0.2154</td>\n",
       "      <td>...</td>\n",
       "      <td>0.0061</td>\n",
       "      <td>0.0093</td>\n",
       "      <td>0.0135</td>\n",
       "      <td>0.0063</td>\n",
       "      <td>0.0063</td>\n",
       "      <td>0.0034</td>\n",
       "      <td>0.0032</td>\n",
       "      <td>0.0062</td>\n",
       "      <td>0.0067</td>\n",
       "      <td>M</td>\n",
       "    </tr>\n",
       "    <tr>\n",
       "      <th>205</th>\n",
       "      <td>0.0522</td>\n",
       "      <td>0.0437</td>\n",
       "      <td>0.0180</td>\n",
       "      <td>0.0292</td>\n",
       "      <td>0.0351</td>\n",
       "      <td>0.1171</td>\n",
       "      <td>0.1257</td>\n",
       "      <td>0.1178</td>\n",
       "      <td>0.1258</td>\n",
       "      <td>0.2529</td>\n",
       "      <td>...</td>\n",
       "      <td>0.0160</td>\n",
       "      <td>0.0029</td>\n",
       "      <td>0.0051</td>\n",
       "      <td>0.0062</td>\n",
       "      <td>0.0089</td>\n",
       "      <td>0.0140</td>\n",
       "      <td>0.0138</td>\n",
       "      <td>0.0077</td>\n",
       "      <td>0.0031</td>\n",
       "      <td>M</td>\n",
       "    </tr>\n",
       "    <tr>\n",
       "      <th>206</th>\n",
       "      <td>0.0303</td>\n",
       "      <td>0.0353</td>\n",
       "      <td>0.0490</td>\n",
       "      <td>0.0608</td>\n",
       "      <td>0.0167</td>\n",
       "      <td>0.1354</td>\n",
       "      <td>0.1465</td>\n",
       "      <td>0.1123</td>\n",
       "      <td>0.1945</td>\n",
       "      <td>0.2354</td>\n",
       "      <td>...</td>\n",
       "      <td>0.0086</td>\n",
       "      <td>0.0046</td>\n",
       "      <td>0.0126</td>\n",
       "      <td>0.0036</td>\n",
       "      <td>0.0035</td>\n",
       "      <td>0.0034</td>\n",
       "      <td>0.0079</td>\n",
       "      <td>0.0036</td>\n",
       "      <td>0.0048</td>\n",
       "      <td>M</td>\n",
       "    </tr>\n",
       "    <tr>\n",
       "      <th>207</th>\n",
       "      <td>0.0260</td>\n",
       "      <td>0.0363</td>\n",
       "      <td>0.0136</td>\n",
       "      <td>0.0272</td>\n",
       "      <td>0.0214</td>\n",
       "      <td>0.0338</td>\n",
       "      <td>0.0655</td>\n",
       "      <td>0.1400</td>\n",
       "      <td>0.1843</td>\n",
       "      <td>0.2354</td>\n",
       "      <td>...</td>\n",
       "      <td>0.0146</td>\n",
       "      <td>0.0129</td>\n",
       "      <td>0.0047</td>\n",
       "      <td>0.0039</td>\n",
       "      <td>0.0061</td>\n",
       "      <td>0.0040</td>\n",
       "      <td>0.0036</td>\n",
       "      <td>0.0061</td>\n",
       "      <td>0.0115</td>\n",
       "      <td>M</td>\n",
       "    </tr>\n",
       "  </tbody>\n",
       "</table>\n",
       "<p>208 rows × 61 columns</p>\n",
       "</div>"
      ],
      "text/plain": [
       "         0       1       2       3       4       5       6       7       8   \\\n",
       "0    0.0200  0.0371  0.0428  0.0207  0.0954  0.0986  0.1539  0.1601  0.3109   \n",
       "1    0.0453  0.0523  0.0843  0.0689  0.1183  0.2583  0.2156  0.3481  0.3337   \n",
       "2    0.0262  0.0582  0.1099  0.1083  0.0974  0.2280  0.2431  0.3771  0.5598   \n",
       "3    0.0100  0.0171  0.0623  0.0205  0.0205  0.0368  0.1098  0.1276  0.0598   \n",
       "4    0.0762  0.0666  0.0481  0.0394  0.0590  0.0649  0.1209  0.2467  0.3564   \n",
       "..      ...     ...     ...     ...     ...     ...     ...     ...     ...   \n",
       "203  0.0187  0.0346  0.0168  0.0177  0.0393  0.1630  0.2028  0.1694  0.2328   \n",
       "204  0.0323  0.0101  0.0298  0.0564  0.0760  0.0958  0.0990  0.1018  0.1030   \n",
       "205  0.0522  0.0437  0.0180  0.0292  0.0351  0.1171  0.1257  0.1178  0.1258   \n",
       "206  0.0303  0.0353  0.0490  0.0608  0.0167  0.1354  0.1465  0.1123  0.1945   \n",
       "207  0.0260  0.0363  0.0136  0.0272  0.0214  0.0338  0.0655  0.1400  0.1843   \n",
       "\n",
       "         9   ...      51      52      53      54      55      56      57  \\\n",
       "0    0.2111  ...  0.0027  0.0065  0.0159  0.0072  0.0167  0.0180  0.0084   \n",
       "1    0.2872  ...  0.0084  0.0089  0.0048  0.0094  0.0191  0.0140  0.0049   \n",
       "2    0.6194  ...  0.0232  0.0166  0.0095  0.0180  0.0244  0.0316  0.0164   \n",
       "3    0.1264  ...  0.0121  0.0036  0.0150  0.0085  0.0073  0.0050  0.0044   \n",
       "4    0.4459  ...  0.0031  0.0054  0.0105  0.0110  0.0015  0.0072  0.0048   \n",
       "..      ...  ...     ...     ...     ...     ...     ...     ...     ...   \n",
       "203  0.2684  ...  0.0116  0.0098  0.0199  0.0033  0.0101  0.0065  0.0115   \n",
       "204  0.2154  ...  0.0061  0.0093  0.0135  0.0063  0.0063  0.0034  0.0032   \n",
       "205  0.2529  ...  0.0160  0.0029  0.0051  0.0062  0.0089  0.0140  0.0138   \n",
       "206  0.2354  ...  0.0086  0.0046  0.0126  0.0036  0.0035  0.0034  0.0079   \n",
       "207  0.2354  ...  0.0146  0.0129  0.0047  0.0039  0.0061  0.0040  0.0036   \n",
       "\n",
       "         58      59  60  \n",
       "0    0.0090  0.0032   R  \n",
       "1    0.0052  0.0044   R  \n",
       "2    0.0095  0.0078   R  \n",
       "3    0.0040  0.0117   R  \n",
       "4    0.0107  0.0094   R  \n",
       "..      ...     ...  ..  \n",
       "203  0.0193  0.0157   M  \n",
       "204  0.0062  0.0067   M  \n",
       "205  0.0077  0.0031   M  \n",
       "206  0.0036  0.0048   M  \n",
       "207  0.0061  0.0115   M  \n",
       "\n",
       "[208 rows x 61 columns]"
      ]
     },
     "execution_count": 106,
     "metadata": {},
     "output_type": "execute_result"
    }
   ],
   "source": [
    "main_df = pd.read_csv('D:\\\\Hoc may\\\\Bài thực hành 7\\\\sonar.all-data.csv',header=None)\n",
    "main_df"
   ]
  },
  {
   "cell_type": "code",
   "execution_count": 107,
   "id": "9b026a55a0591bda",
   "metadata": {
    "ExecuteTime": {
     "end_time": "2025-04-02T08:16:39.504326200Z",
     "start_time": "2025-03-27T07:30:23.462984Z"
    }
   },
   "outputs": [
    {
     "data": {
      "text/plain": [
       "<Axes: ylabel='60'>"
      ]
     },
     "execution_count": 107,
     "metadata": {},
     "output_type": "execute_result"
    },
    {
     "data": {
      "image/png": "[encoded data removed]",
      "text/plain": [
       "<Figure size 640x480 with 1 Axes>"
      ]
     },
     "metadata": {},
     "output_type": "display_data"
    }
   ],
   "source": [
    "main_df[60].value_counts().plot(kind='barh')"
   ]
  },
  {
   "cell_type": "code",
   "execution_count": 108,
   "id": "82a1d10aca2e9f09",
   "metadata": {
    "ExecuteTime": {
     "end_time": "2025-04-02T08:16:39.504326200Z",
     "start_time": "2025-03-27T07:30:23.682580Z"
    }
   },
   "outputs": [
    {
     "name": "stdout",
     "output_type": "stream",
     "text": [
      "[-1, -1, -1, -1, -1, -1, -1, -1, -1, -1, -1, -1, -1, -1, -1, -1, -1, -1, -1, -1, -1, -1, -1, -1, -1, -1, -1, -1, -1, -1, -1, -1, -1, -1, -1, -1, -1, -1, -1, -1, -1, -1, -1, -1, -1, -1, -1, -1, -1, -1, -1, -1, -1, -1, -1, -1, -1, -1, -1, -1, -1, -1, -1, -1, -1, -1, -1, -1, -1, -1, -1, -1, -1, -1, -1, -1, -1, -1, -1, -1, -1, -1, -1, -1, -1, -1, -1, -1, -1, -1, -1, -1, -1, -1, -1, -1, -1, 1, 1, 1, 1, 1, 1, 1, 1, 1, 1, 1, 1, 1, 1, 1, 1, 1, 1, 1, 1, 1, 1, 1, 1, 1, 1, 1, 1, 1, 1, 1, 1, 1, 1, 1, 1, 1, 1, 1, 1, 1, 1, 1, 1, 1, 1, 1, 1, 1, 1, 1, 1, 1, 1, 1, 1, 1, 1, 1, 1, 1, 1, 1, 1, 1, 1, 1, 1, 1, 1, 1, 1, 1, 1, 1, 1, 1, 1, 1, 1, 1, 1, 1, 1, 1, 1, 1, 1, 1, 1, 1, 1, 1, 1, 1, 1, 1, 1, 1, 1, 1, 1, 1, 1, 1, 1, 1, 1, 1, 1, 1]\n"
     ]
    }
   ],
   "source": [
    "y_df = main_df[60]\n",
    "targes_label = {'M': 1,'R': -1}\n",
    "targes_df = [targes_label[item] for item in y_df]\n",
    "print(targes_df)"
   ]
  },
  {
   "cell_type": "code",
   "execution_count": 109,
   "id": "bb93d4df871a0314",
   "metadata": {
    "ExecuteTime": {
     "end_time": "2025-04-02T08:16:39.526452900Z",
     "start_time": "2025-03-27T07:30:23.733498Z"
    }
   },
   "outputs": [],
   "source": [
    "inputs_df = main_df.drop(60, axis=1)"
   ]
  },
  {
   "cell_type": "code",
   "execution_count": 110,
   "id": "8347f8d22531e375",
   "metadata": {
    "ExecuteTime": {
     "end_time": "2025-04-02T08:16:39.526452900Z",
     "start_time": "2025-03-27T07:30:23.802563Z"
    }
   },
   "outputs": [],
   "source": [
    "x0 = np.ones(( inputs_df.shape[0], 1))\n",
    "X = np.concatenate((x0, inputs_df), axis = 1)"
   ]
  },
  {
   "cell_type": "code",
   "execution_count": 111,
   "id": "7c0675d9cb3df69d",
   "metadata": {
    "ExecuteTime": {
     "end_time": "2025-04-02T08:16:39.534354900Z",
     "start_time": "2025-03-27T07:30:23.808102Z"
    }
   },
   "outputs": [],
   "source": [
    "from sklearn.model_selection import train_test_split\n",
    "X_train, X_test, y_train, y_test = train_test_split(X, targes_df, test_size=0.30,\n",
    "random_state=42)"
   ]
  },
  {
   "cell_type": "code",
   "execution_count": 112,
   "id": "cce9845473a2631c",
   "metadata": {
    "ExecuteTime": {
     "end_time": "2025-04-02T08:16:39.544180300Z",
     "start_time": "2025-03-27T07:40:43.187469Z"
    }
   },
   "outputs": [],
   "source": [
    "# Hàm Perceptron từ Ví dụ 1\n",
    "def h(w, x):\n",
    "    return np.sign(np.dot(w.T, x))\n",
    "\n",
    "def has_converged(X, y, w):\n",
    "    return np.array_equal(h(w, X), y)"
   ]
  },
  {
   "cell_type": "code",
   "execution_count": 113,
   "id": "1452ba27b66d3aa8",
   "metadata": {
    "ExecuteTime": {
     "end_time": "2025-04-02T08:16:39.544180300Z",
     "start_time": "2025-03-27T07:46:14.611637Z"
    }
   },
   "outputs": [],
   "source": [
    "def perceptron(X, y, w_init):\n",
    "    w = [w_init]\n",
    "    N = X.shape[1]\n",
    "    mis_points = []\n",
    "\n",
    "    max_iterations = 1000\n",
    "    iteration = 0\n",
    "    while iteration < max_iterations:\n",
    "        mix_id = np.random.permutation(N)\n",
    "        for i in range(N):\n",
    "            xi = X[:, mix_id[i]].reshape(-1, 1)\n",
    "            yi = y[mix_id[i]]\n",
    "            if h(w[-1], xi)[0] != yi:\n",
    "                mis_points.append(mix_id[i])\n",
    "                w_new = w[-1] + yi * xi\n",
    "                w.append(w_new)\n",
    "            if has_converged(X, y, w[-1]):\n",
    "                break\n",
    "        if has_converged(X, y, w[-1]):\n",
    "            break\n",
    "        iteration += 1\n",
    "    return (w, mis_points)\n"
   ]
  },
  {
   "cell_type": "code",
   "execution_count": 114,
   "id": "6241dd34b524874c",
   "metadata": {
    "ExecuteTime": {
     "end_time": "2025-04-02T08:16:39.544180300Z",
     "start_time": "2025-03-27T07:48:55.539302Z"
    }
   },
   "outputs": [
    {
     "data": {
      "text/plain": [
       "array([[-2.95761753e+01],\n",
       "       [ 6.48174092e+01],\n",
       "       [-5.62980734e+00],\n",
       "       [-6.14134395e+01],\n",
       "       [ 8.81361184e+01],\n",
       "       [ 4.85637593e+01],\n",
       "       [-2.45934746e+00],\n",
       "       [-2.59420325e+01],\n",
       "       [-2.49694367e+01],\n",
       "       [ 3.69837146e+01],\n",
       "       [-3.11759062e+01],\n",
       "       [ 5.77749885e+01],\n",
       "       [ 1.49398984e+01],\n",
       "       [-9.50381850e+00],\n",
       "       [-1.37688017e+00],\n",
       "       [ 2.01971299e+00],\n",
       "       [-1.82562720e+01],\n",
       "       [-7.13432260e+00],\n",
       "       [ 1.55431580e+01],\n",
       "       [-2.86952938e+00],\n",
       "       [ 1.88579246e+01],\n",
       "       [-2.60242758e+01],\n",
       "       [ 2.40317829e+01],\n",
       "       [-1.94131415e+01],\n",
       "       [ 3.12329118e+01],\n",
       "       [-9.57835399e+00],\n",
       "       [-5.48567960e+00],\n",
       "       [ 8.42814193e-02],\n",
       "       [ 6.29933153e+00],\n",
       "       [-1.81313150e+01],\n",
       "       [ 4.85803856e+01],\n",
       "       [-6.77799796e+01],\n",
       "       [ 2.55222948e+01],\n",
       "       [ 2.50142993e+01],\n",
       "       [-2.68927261e+01],\n",
       "       [ 1.00575262e+01],\n",
       "       [-2.18013494e+01],\n",
       "       [-3.27706891e+00],\n",
       "       [-5.75848954e+00],\n",
       "       [ 3.64166845e+01],\n",
       "       [-4.20675813e+01],\n",
       "       [ 3.56879004e+00],\n",
       "       [-2.12194818e+01],\n",
       "       [ 4.67405411e+01],\n",
       "       [-2.01539403e+00],\n",
       "       [ 4.91434312e+00],\n",
       "       [ 2.16925500e+01],\n",
       "       [-8.45354132e+00],\n",
       "       [ 6.45486134e+01],\n",
       "       [ 6.22996479e+01],\n",
       "       [-4.18547614e+01],\n",
       "       [ 3.49097646e+01],\n",
       "       [ 2.18743687e+01],\n",
       "       [ 9.08283457e+00],\n",
       "       [ 4.12258693e+01],\n",
       "       [-1.88411891e+00],\n",
       "       [-2.01098233e+01],\n",
       "       [-1.96134130e+01],\n",
       "       [ 1.08571223e+01],\n",
       "       [ 2.51178539e+01],\n",
       "       [ 1.77612381e+01]])"
      ]
     },
     "execution_count": 114,
     "metadata": {},
     "output_type": "execute_result"
    }
   ],
   "source": [
    "# a) Huấn luyện mô hình Perceptron\n",
    "d = X_train.shape[1]\n",
    "w_init = np.random.randn(d, 1)\n",
    "start_time = time.time()\n",
    "(w, mis_points) = perceptron(X_train.T, y_train, w_init)  # Chuyển vị X_train để phù hợp với định dạng\n",
    "perceptron_time = time.time() - start_time\n",
    "final_w = w[-1]\n",
    "final_w"
   ]
  },
  {
   "cell_type": "code",
   "execution_count": 115,
   "id": "8130cf87f5ecb857",
   "metadata": {
    "ExecuteTime": {
     "end_time": "2025-04-02T08:16:39.544180300Z",
     "start_time": "2025-03-27T07:49:05.522013Z"
    }
   },
   "outputs": [],
   "source": [
    "# b) Dự đoán và tính các độ đo trên tập test\n",
    "def predict_perceptron(X, w):\n",
    "    return h(w, X)"
   ]
  },
  {
   "cell_type": "code",
   "execution_count": 116,
   "id": "ce217e59960b82fa",
   "metadata": {
    "ExecuteTime": {
     "end_time": "2025-04-02T08:16:39.544180300Z",
     "start_time": "2025-03-27T07:49:07.820959Z"
    }
   },
   "outputs": [
    {
     "name": "stdout",
     "output_type": "stream",
     "text": [
      "\n",
      "Perceptron Results:\n",
      "Training time: 1.9016 seconds\n",
      "Accuracy: 0.7937\n",
      "Precision: 0.8929\n",
      "Recall: 0.7143\n"
     ]
    }
   ],
   "source": [
    "from sklearn.metrics import accuracy_score, precision_score, recall_score\n",
    "y_pred_perceptron = predict_perceptron(X_test.T, final_w).flatten()\n",
    "accuracy_perceptron = accuracy_score(y_test, y_pred_perceptron)\n",
    "precision_perceptron = precision_score(y_test, y_pred_perceptron)\n",
    "recall_perceptron = recall_score(y_test, y_pred_perceptron)\n",
    "print(\"\\nPerceptron Results:\")\n",
    "print(f\"Training time: {perceptron_time:.4f} seconds\")\n",
    "print(f\"Accuracy: {accuracy_perceptron:.4f}\")\n",
    "print(f\"Precision: {precision_perceptron:.4f}\")\n",
    "print(f\"Recall: {recall_perceptron:.4f}\")"
   ]
  },
  {
   "cell_type": "code",
   "execution_count": 117,
   "id": "e453210c5b3b3fc3",
   "metadata": {
    "ExecuteTime": {
     "end_time": "2025-04-02T08:16:39.544180300Z",
     "start_time": "2025-03-27T07:49:34.877372Z"
    }
   },
   "outputs": [
    {
     "name": "stdout",
     "output_type": "stream",
     "text": [
      "\n",
      "Logistic Regression Results:\n",
      "Training time: 0.0162 seconds\n",
      "Accuracy: 0.8095\n",
      "Precision: 0.8108\n",
      "Recall: 0.8571\n"
     ]
    }
   ],
   "source": [
    "from sklearn.linear_model import LogisticRegression\n",
    "# c) So sánh với Logistic Regression và Naive Bayes\n",
    "# Logistic Regression\n",
    "start_time = time.time()\n",
    "log_reg = LogisticRegression(max_iter=1000)\n",
    "log_reg.fit(X_train, y_train)\n",
    "logistic_time = time.time() - start_time\n",
    "y_pred_logistic = log_reg.predict(X_test)\n",
    "accuracy_logistic = accuracy_score(y_test, y_pred_logistic)\n",
    "precision_logistic = precision_score(y_test, y_pred_logistic)\n",
    "recall_logistic = recall_score(y_test, y_pred_logistic)\n",
    "\n",
    "print(\"\\nLogistic Regression Results:\")\n",
    "print(f\"Training time: {logistic_time:.4f} seconds\")\n",
    "print(f\"Accuracy: {accuracy_logistic:.4f}\")\n",
    "print(f\"Precision: {precision_logistic:.4f}\")\n",
    "print(f\"Recall: {recall_logistic:.4f}\")"
   ]
  },
  {
   "cell_type": "code",
   "execution_count": 118,
   "id": "17b72034721471f7",
   "metadata": {
    "ExecuteTime": {
     "end_time": "2025-04-02T08:16:39.544180300Z",
     "start_time": "2025-03-27T07:50:11.316350Z"
    }
   },
   "outputs": [
    {
     "name": "stdout",
     "output_type": "stream",
     "text": [
      "\n",
      "Naive Bayes Results:\n",
      "Training time: 0.0000 seconds\n",
      "Accuracy: 0.7778\n",
      "Precision: 0.9200\n",
      "Recall: 0.6571\n"
     ]
    }
   ],
   "source": [
    "from sklearn.naive_bayes import GaussianNB\n",
    "#Naive Bayes\n",
    "start_time = time.time()\n",
    "nb = GaussianNB()\n",
    "nb.fit(X_train, y_train)\n",
    "nb_time = time.time() - start_time\n",
    "y_pred_nb = nb.predict(X_test)\n",
    "accuracy_nb = accuracy_score(y_test, y_pred_nb)\n",
    "precision_nb = precision_score(y_test, y_pred_nb)\n",
    "recall_nb = recall_score(y_test, y_pred_nb)\n",
    "\n",
    "print(\"\\nNaive Bayes Results:\")\n",
    "print(f\"Training time: {nb_time:.4f} seconds\")\n",
    "print(f\"Accuracy: {accuracy_nb:.4f}\")\n",
    "print(f\"Precision: {precision_nb:.4f}\")\n",
    "print(f\"Recall: {recall_nb:.4f}\")"
   ]
  },
  {
   "cell_type": "code",
   "execution_count": 119,
   "id": "47d013bf12e2ece4",
   "metadata": {
    "ExecuteTime": {
     "end_time": "2025-04-02T08:16:39.550312600Z",
     "start_time": "2025-03-27T07:50:19.035334Z"
    }
   },
   "outputs": [
    {
     "name": "stdout",
     "output_type": "stream",
     "text": [
      "\n",
      "Summary Comparison:\n",
      "Model                Time (s)     Accuracy     Precision    Recall      \n",
      "--------------------------------------------------------------------\n",
      "Perceptron           1.9016       0.7937       0.8929       0.7143      \n",
      "Logistic Regression  0.0162       0.8095       0.8108       0.8571      \n",
      "Naive Bayes          0.0000       0.7778       0.9200       0.6571      \n"
     ]
    }
   ],
   "source": [
    "# So sánh tổng quan\n",
    "print(\"\\nSummary Comparison:\")\n",
    "print(f\"{'Model':<20} {'Time (s)':<12} {'Accuracy':<12} {'Precision':<12} {'Recall':<12}\")\n",
    "print(\"-\" * 68)\n",
    "print(f\"{'Perceptron':<20} {perceptron_time:<12.4f} {accuracy_perceptron:<12.4f} {precision_perceptron:<12.4f} {recall_perceptron:<12.4f}\")\n",
    "print(f\"{'Logistic Regression':<20} {logistic_time:<12.4f} {accuracy_logistic:<12.4f} {precision_logistic:<12.4f} {recall_logistic:<12.4f}\")\n",
    "print(f\"{'Naive Bayes':<20} {nb_time:<12.4f} {accuracy_nb:<12.4f} {precision_nb:<12.4f} {recall_nb:<12.4f}\")"
   ]
  },
  {
   "cell_type": "markdown",
   "id": "ddfbd576db76d880",
   "metadata": {},
   "source": [
    "### Ví dụ 3."
   ]
  },
  {
   "cell_type": "code",
   "execution_count": 203,
   "id": "9b7f7a66a0512f97",
   "metadata": {
    "ExecuteTime": {
     "end_time": "2025-04-02T08:16:39.550312600Z",
     "start_time": "2025-03-27T07:54:17.257151Z"
    }
   },
   "outputs": [],
   "source": [
    "import numpy as np\n",
    "from sklearn import datasets\n",
    "from sklearn.model_selection import train_test_split\n",
    "from sklearn.decomposition import PCA\n",
    "from sklearn.linear_model import LogisticRegression\n",
    "from sklearn.metrics import accuracy_score, precision_score, recall_score\n",
    "import matplotlib.pyplot as plt\n",
    "import time"
   ]
  },
  {
   "cell_type": "code",
   "execution_count": 204,
   "id": "805afa2e1ea20425",
   "metadata": {
    "ExecuteTime": {
     "end_time": "2025-04-02T08:16:39.551619900Z",
     "start_time": "2025-03-27T07:56:24.362729Z"
    }
   },
   "outputs": [],
   "source": [
    "# Load dữ liệu ung thư vú\n",
    "cancer_data = datasets.load_breast_cancer()\n",
    "X = cancer_data.data\n",
    "y = cancer_data.target\n"
   ]
  },
  {
   "cell_type": "code",
   "execution_count": 205,
   "id": "aa21db4e6731c182",
   "metadata": {
    "ExecuteTime": {
     "end_time": "2025-04-02T08:16:39.551619900Z",
     "start_time": "2025-03-27T07:56:26.219927Z"
    }
   },
   "outputs": [],
   "source": [
    "X_train, X_test, y_train, y_test = train_test_split(X, y, test_size=0.3, random_state=109)"
   ]
  },
  {
   "cell_type": "code",
   "execution_count": 206,
   "id": "504acbe3e80af542",
   "metadata": {
    "ExecuteTime": {
     "end_time": "2025-04-02T08:16:39.551619900Z",
     "start_time": "2025-03-27T07:56:28.425444Z"
    }
   },
   "outputs": [],
   "source": [
    "# Chuyển nhãn y từ {0, 1} sang {-1, 1} để phù hợp với Perceptron\n",
    "y_train_perceptron = np.where(y_train == 0, -1, 1)\n",
    "y_test_perceptron = np.where(y_test == 0, -1, 1)"
   ]
  },
  {
   "cell_type": "code",
   "execution_count": 207,
   "id": "bdfdd53df07ef18d",
   "metadata": {
    "ExecuteTime": {
     "end_time": "2025-04-02T08:16:39.551619900Z",
     "start_time": "2025-03-27T07:56:30.219496Z"
    }
   },
   "outputs": [],
   "source": [
    "# Thêm cột x0 = 1 cho Perceptron\n",
    "X_train_perceptron = np.concatenate((np.ones((X_train.shape[0], 1)), X_train), axis=1)\n",
    "X_test_perceptron = np.concatenate((np.ones((X_test.shape[0], 1)), X_test), axis=1)"
   ]
  },
  {
   "cell_type": "code",
   "execution_count": 208,
   "id": "c05b0b1fc78332a",
   "metadata": {
    "ExecuteTime": {
     "end_time": "2025-04-02T08:16:39.554165600Z",
     "start_time": "2025-03-27T07:56:56.065255Z"
    }
   },
   "outputs": [],
   "source": [
    "def h(w, x):\n",
    "    return np.sign(np.dot(w.T, x))\n",
    "\n",
    "def has_converged(X, y, w):\n",
    "    return np.array_equal(h(w, X), y)"
   ]
  },
  {
   "cell_type": "code",
   "execution_count": 209,
   "id": "e4662126f4d97699",
   "metadata": {
    "ExecuteTime": {
     "end_time": "2025-04-02T08:16:39.554165600Z",
     "start_time": "2025-03-27T07:57:53.169390Z"
    }
   },
   "outputs": [],
   "source": [
    "def perceptron(X, y, w_init):\n",
    "    w = [w_init]\n",
    "    N = X.shape[1]\n",
    "    mis_points = []\n",
    "    max_iterations = 1000\n",
    "    iteration = 0\n",
    "\n",
    "    while iteration < max_iterations:\n",
    "        mix_id = np.random.permutation(N)\n",
    "        for i in range(N):\n",
    "            xi = X[:, mix_id[i]].reshape(X.shape[0], 1)\n",
    "            yi = y[mix_id[i]]\n",
    "            if h(w[-1], xi)[0] != yi:\n",
    "                mis_points.append(mix_id[i])\n",
    "                w_new = w[-1] + yi * xi\n",
    "                w.append(w_new)\n",
    "            if has_converged(X, y, w[-1]):\n",
    "                break\n",
    "        if has_converged(X, y, w[-1]):\n",
    "            break\n",
    "        iteration += 1\n",
    "    return (w, mis_points)"
   ]
  },
  {
   "cell_type": "code",
   "execution_count": 210,
   "id": "1a3533cf86a28ae1",
   "metadata": {
    "ExecuteTime": {
     "end_time": "2025-04-02T08:16:39.554165600Z",
     "start_time": "2025-03-27T07:59:29.568194Z"
    }
   },
   "outputs": [
    {
     "data": {
      "text/plain": [
       "array([[ 2.22686851e+03],\n",
       "       [ 1.62922852e+04],\n",
       "       [-6.90030676e+03],\n",
       "       [ 5.32836477e+04],\n",
       "       [ 2.22449063e+03],\n",
       "       [-1.72807700e+02],\n",
       "       [-1.33098891e+03],\n",
       "       [-2.01674937e+03],\n",
       "       [-8.35502333e+02],\n",
       "       [-2.75349073e+02],\n",
       "       [-2.41573539e+01],\n",
       "       [ 4.42279485e+02],\n",
       "       [ 6.62753867e+02],\n",
       "       [-2.56451331e+03],\n",
       "       [-1.55254396e+04],\n",
       "       [-3.02239101e+01],\n",
       "       [-3.71043370e+02],\n",
       "       [-5.08953750e+02],\n",
       "       [-1.21693136e+02],\n",
       "       [-7.82854094e+01],\n",
       "       [-3.50512704e+01],\n",
       "       [ 1.76281548e+04],\n",
       "       [-3.51054791e+04],\n",
       "       [ 1.51024364e+04],\n",
       "       [-7.77191071e+03],\n",
       "       [-4.27667587e+02],\n",
       "       [-4.64820698e+03],\n",
       "       [-5.96868128e+03],\n",
       "       [-1.68779665e+03],\n",
       "       [-1.12111765e+03],\n",
       "       [-3.77436346e+02]])"
      ]
     },
     "execution_count": 210,
     "metadata": {},
     "output_type": "execute_result"
    }
   ],
   "source": [
    "#Huấn luyện Perceptron\n",
    "d = X_train_perceptron.shape[1]\n",
    "w_init = np.random.randn(d, 1)\n",
    "start_time = time.time()\n",
    "(w, m) = perceptron(X_train_perceptron.T, y_train_perceptron,w_init)\n",
    "perceptron_time = time.time() - start_time\n",
    "final_w = w[-1]\n",
    "final_w"
   ]
  },
  {
   "cell_type": "code",
   "execution_count": 211,
   "id": "a7ca6684670754d2",
   "metadata": {
    "ExecuteTime": {
     "end_time": "2025-04-02T08:16:39.554165600Z",
     "start_time": "2025-03-27T07:59:42.910211Z"
    }
   },
   "outputs": [],
   "source": [
    "# Dự đoán Perceptron trên tập test\n",
    "y_pred_perceptron = h(final_w, X_test_perceptron.T).flatten()\n",
    "accuracy_perceptron = accuracy_score(y_test_perceptron, y_pred_perceptron)\n",
    "precision_perceptron = precision_score(y_test_perceptron, y_pred_perceptron)\n",
    "recall_perceptron = recall_score(y_test_perceptron, y_pred_perceptron)"
   ]
  },
  {
   "cell_type": "code",
   "execution_count": 212,
   "id": "41fc369bf8d2c2d5",
   "metadata": {
    "ExecuteTime": {
     "end_time": "2025-04-02T08:16:39.554165600Z",
     "start_time": "2025-03-27T08:02:02.678032Z"
    }
   },
   "outputs": [
    {
     "data": {
      "text/plain": [
       "0.9722222222222222"
      ]
     },
     "execution_count": 212,
     "metadata": {},
     "output_type": "execute_result"
    }
   ],
   "source": [
    "y_pred_logistic\n",
    "accuracy_perceptron\n",
    "precision_perceptron\n",
    "recall_logistic"
   ]
  },
  {
   "cell_type": "code",
   "execution_count": 213,
   "id": "b850d1369706b862",
   "metadata": {
    "ExecuteTime": {
     "end_time": "2025-04-02T08:16:39.554165600Z",
     "start_time": "2025-04-02T08:16:31.931780Z"
    }
   },
   "outputs": [],
   "source": [
    "# Giảm chiều dữ liệu về 2D bằng PCA\n",
    "pca = PCA(n_components=2)\n",
    "X_reduced = pca.fit_transform(X)"
   ]
  },
  {
   "cell_type": "code",
   "execution_count": 214,
   "id": "f92726e334b4da8",
   "metadata": {},
   "outputs": [
    {
     "data": {
      "image/png": "[encoded data removed]",
      "text/plain": [
       "<Figure size 800x600 with 1 Axes>"
      ]
     },
     "metadata": {},
     "output_type": "display_data"
    }
   ],
   "source": [
    "# Hiển thị dữ liệu đã giảm chiều\n",
    "plt.figure(figsize=(8, 6))\n",
    "plt.scatter(X_reduced[y == 0, 0], X_reduced[y == 0, 1], c='red', label='Malignant (0)', alpha=0.6)\n",
    "plt.scatter(X_reduced[y == 1, 0], X_reduced[y == 1, 1], c='blue', label='Benign (1)', alpha=0.6)\n",
    "plt.xlabel('Principal Component 1')\n",
    "plt.ylabel('Principal Component 2')\n",
    "plt.title('Breast Cancer Data Reduced to 2D')\n",
    "plt.legend()\n",
    "plt.show()"
   ]
  },
  {
   "cell_type": "code",
   "execution_count": 215,
   "id": "7ece7253521fef06",
   "metadata": {},
   "outputs": [
    {
     "name": "stdout",
     "output_type": "stream",
     "text": [
      "\n",
      "Perceptron Results:\n",
      "Training time: 3.2234 seconds\n",
      "Accuracy: 0.9298\n",
      "Precision: 0.9000\n",
      "Recall: 1.0000\n"
     ]
    }
   ],
   "source": [
    "#Huấn luyện và dự đoán bằng Logistic Regression\n",
    "start_time = time.time()\n",
    "log_reg = LogisticRegression(max_iter=5000)\n",
    "log_reg.fit(X_train, y_train)\n",
    "logistic_time = time.time() - start_time\n",
    "y_pred_logistic = log_reg.predict(X_test)\n",
    "accuracy_logistic = accuracy_score(y_test, y_pred_logistic)\n",
    "precision_logistic = precision_score(y_test, y_pred_logistic)\n",
    "recall_logistic = recall_score(y_test, y_pred_logistic)\n",
    "\n",
    "# So sánh kết quả\n",
    "print(\"\\nPerceptron Results:\")\n",
    "print(f\"Training time: {perceptron_time:.4f} seconds\")\n",
    "print(f\"Accuracy: {accuracy_perceptron:.4f}\")\n",
    "print(f\"Precision: {precision_perceptron:.4f}\")\n",
    "print(f\"Recall: {recall_perceptron:.4f}\")"
   ]
  },
  {
   "cell_type": "code",
   "execution_count": 133,
   "id": "e2c517f08badfb12",
   "metadata": {},
   "outputs": [
    {
     "name": "stdout",
     "output_type": "stream",
     "text": [
      "\n",
      "Logistic Regression Results:\n",
      "Training time: 0.0539 seconds\n",
      "Accuracy: 0.9766\n",
      "Precision: 0.9906\n",
      "Recall: 0.9722\n",
      "\n",
      "Summary Comparison:\n",
      "Model                Time (s)     Accuracy     Precision    Recall      \n",
      "--------------------------------------------------------------------\n",
      "Perceptron           3.3585       0.8480       0.9881       0.7685      \n",
      "Logistic Regression  0.0539       0.9766       0.9906       0.9722      \n"
     ]
    }
   ],
   "source": [
    "print(\"\\nLogistic Regression Results:\")\n",
    "print(f\"Training time: {logistic_time:.4f} seconds\")\n",
    "print(f\"Accuracy: {accuracy_logistic:.4f}\")\n",
    "print(f\"Precision: {precision_logistic:.4f}\")\n",
    "print(f\"Recall: {recall_logistic:.4f}\")\n",
    "\n",
    "print(\"\\nSummary Comparison:\")\n",
    "print(f\"{'Model':<20} {'Time (s)':<12} {'Accuracy':<12} {'Precision':<12} {'Recall':<12}\")\n",
    "print(\"-\" * 68)\n",
    "print(f\"{'Perceptron':<20} {perceptron_time:<12.4f} {accuracy_perceptron:<12.4f} {precision_perceptron:<12.4f} {recall_perceptron:<12.4f}\")\n",
    "print(f\"{'Logistic Regression':<20} {logistic_time:<12.4f} {accuracy_logistic:<12.4f} {precision_logistic:<12.4f} {recall_logistic:<12.4f}\")\n"
   ]
  },
  {
   "cell_type": "markdown",
   "id": "5aa1956e",
   "metadata": {},
   "source": [
    "## Ví dụ 4 (Bài tập tự thực hành)."
   ]
  },
  {
   "cell_type": "code",
   "execution_count": 134,
   "id": "24cb0d79aef26ef7",
   "metadata": {},
   "outputs": [],
   "source": [
    "import pandas as pd\n",
    "import numpy as np\n",
    "from sklearn.model_selection import train_test_split\n",
    "from sklearn.preprocessing import StandardScaler\n",
    "from sklearn.decomposition import PCA\n",
    "from sklearn.linear_model import Perceptron, LogisticRegression\n",
    "from sklearn.naive_bayes import GaussianNB\n",
    "from sklearn.metrics import accuracy_score, precision_score, recall_score\n",
    "import matplotlib.pyplot as plt"
   ]
  },
  {
   "cell_type": "code",
   "execution_count": 135,
   "id": "c40ed9512b513a4c",
   "metadata": {},
   "outputs": [],
   "source": [
    "df = pd.read_csv('framingham.csv')"
   ]
  },
  {
   "cell_type": "code",
   "execution_count": 136,
   "id": "5c7acedddfe5f82b",
   "metadata": {},
   "outputs": [],
   "source": [
    "df = df.dropna()"
   ]
  },
  {
   "cell_type": "code",
   "execution_count": 137,
   "id": "5633bc5eac6e151c",
   "metadata": {},
   "outputs": [],
   "source": [
    "X = df.drop('TenYearCHD', axis=1)\n",
    "y = df['TenYearCHD']"
   ]
  },
  {
   "cell_type": "code",
   "execution_count": 138,
   "id": "69536510",
   "metadata": {},
   "outputs": [],
   "source": [
    "scaler = StandardScaler()\n",
    "X_scaled = scaler.fit_transform(X)"
   ]
  },
  {
   "cell_type": "code",
   "execution_count": 139,
   "id": "90e0490f",
   "metadata": {},
   "outputs": [],
   "source": [
    "X_train, X_val, y_train, y_val = train_test_split(X_scaled, y, test_size=0.3, random_state=42)\n"
   ]
  },
  {
   "cell_type": "code",
   "execution_count": 140,
   "id": "7f028a51",
   "metadata": {},
   "outputs": [],
   "source": [
    "pca = PCA(n_components=2)\n",
    "X_train_2d = pca.fit_transform(X_train)\n",
    "X_val_2d = pca.transform(X_val)"
   ]
  },
  {
   "cell_type": "code",
   "execution_count": 141,
   "id": "c5f92ada",
   "metadata": {},
   "outputs": [
    {
     "data": {
      "image/png": "[encoded data removed]",
      "text/plain": [
       "<Figure size 640x480 with 1 Axes>"
      ]
     },
     "metadata": {},
     "output_type": "display_data"
    }
   ],
   "source": [
    "plt.scatter(X_train_2d[:, 0], X_train_2d[:, 1], c=y_train, cmap='bwr', alpha=0.5)\n",
    "plt.title(\"Data in 2D after PCA\")\n",
    "plt.xlabel(\"PC1\")\n",
    "plt.ylabel(\"PC2\")\n",
    "plt.show()"
   ]
  },
  {
   "cell_type": "code",
   "execution_count": 142,
   "id": "4b3acdc7",
   "metadata": {},
   "outputs": [],
   "source": [
    "# Perceptron\n",
    "perceptron = Perceptron(random_state=42)\n",
    "perceptron.fit(X_train, y_train)\n",
    "y_pred_perceptron = perceptron.predict(X_val)"
   ]
  },
  {
   "cell_type": "code",
   "execution_count": 143,
   "id": "5474ae4c",
   "metadata": {},
   "outputs": [],
   "source": [
    "# Logistic Regression\n",
    "log_reg = LogisticRegression(random_state=42)\n",
    "log_reg.fit(X_train, y_train)\n",
    "y_pred_log_reg = log_reg.predict(X_val)"
   ]
  },
  {
   "cell_type": "code",
   "execution_count": 144,
   "id": "b8c7e1be",
   "metadata": {},
   "outputs": [],
   "source": [
    "# Naive Bayes\n",
    "nb = GaussianNB()\n",
    "nb.fit(X_train, y_train)\n",
    "y_pred_nb = nb.predict(X_val)"
   ]
  },
  {
   "cell_type": "code",
   "execution_count": 145,
   "id": "3f08f806",
   "metadata": {},
   "outputs": [
    {
     "name": "stdout",
     "output_type": "stream",
     "text": [
      "Perceptron:\n",
      "Accuracy: 0.7320\n",
      "Precision: 0.2561\n",
      "Recall: 0.3621\n",
      "\n",
      "Logistic Regression:\n",
      "Accuracy: 0.8469\n",
      "Precision: 0.6071\n",
      "Recall: 0.0977\n",
      "\n",
      "Naive Bayes:\n",
      "Accuracy: 0.8122\n",
      "Precision: 0.3333\n",
      "Recall: 0.1839\n",
      "\n"
     ]
    }
   ],
   "source": [
    "def print_metrics(y_true, y_pred, model_name):\n",
    "    acc = accuracy_score(y_true, y_pred)\n",
    "    prec = precision_score(y_true, y_pred)\n",
    "    rec = recall_score(y_true, y_pred)\n",
    "    print(f\"{model_name}:\")\n",
    "    print(f\"Accuracy: {acc:.4f}\")\n",
    "    print(f\"Precision: {prec:.4f}\")\n",
    "    print(f\"Recall: {rec:.4f}\\n\")\n",
    "\n",
    "print_metrics(y_val, y_pred_perceptron, \"Perceptron\")\n",
    "print_metrics(y_val, y_pred_log_reg, \"Logistic Regression\")\n",
    "print_metrics(y_val, y_pred_nb, \"Naive Bayes\")"
   ]
  },
  {
   "cell_type": "code",
   "execution_count": 146,
   "id": "9444fcd1",
   "metadata": {},
   "outputs": [
    {
     "name": "stdout",
     "output_type": "stream",
     "text": [
      "Perceptron Coefficients: [[  6.46349173   4.41639287  -1.25510783   5.69501786   4.97683886\n",
      "   -3.35091262 -12.16846659   0.78077875  -3.82530728   6.58248876\n",
      "    6.66166593  -1.39738287   1.85188888   0.85367255  -1.38095202]]\n",
      "Logistic Regression Coefficients: [[ 0.28380455  0.56361465 -0.01482549  0.07058526  0.23370371  0.04785507\n",
      "   0.11466084  0.08532308  0.03602648  0.13863001  0.37036436 -0.01264452\n",
      "   0.01091275 -0.10565922  0.1572414 ]]\n"
     ]
    }
   ],
   "source": [
    "print(\"Perceptron Coefficients:\", perceptron.coef_)\n",
    "print(\"Logistic Regression Coefficients:\", log_reg.coef_)"
   ]
  },
  {
   "cell_type": "code",
   "execution_count": 147,
   "id": "3b9014fa",
   "metadata": {},
   "outputs": [
    {
     "name": "stdout",
     "output_type": "stream",
     "text": [
      "Perceptron (2D):\n",
      "Accuracy: 0.8131\n",
      "Precision: 0.2540\n",
      "Recall: 0.0920\n",
      "\n",
      "Logistic Regression (2D):\n",
      "Accuracy: 0.8423\n",
      "Precision: 0.5455\n",
      "Recall: 0.0345\n",
      "\n",
      "Naive Bayes (2D):\n",
      "Accuracy: 0.8377\n",
      "Precision: 0.4444\n",
      "Recall: 0.0920\n",
      "\n",
      "Perceptron 2D Coefficients: [[0.3000095 2.905862 ]]\n",
      "Logistic Regression 2D Coefficients: [[0.3303274 0.2506484]]\n"
     ]
    }
   ],
   "source": [
    "# Perceptron on 2D\n",
    "perceptron_2d = Perceptron(random_state=42)\n",
    "perceptron_2d.fit(X_train_2d, y_train)\n",
    "y_pred_perceptron_2d = perceptron_2d.predict(X_val_2d)\n",
    "\n",
    "# Logistic Regression on 2D\n",
    "log_reg_2d = LogisticRegression(random_state=42)\n",
    "log_reg_2d.fit(X_train_2d, y_train)\n",
    "y_pred_log_reg_2d = log_reg_2d.predict(X_val_2d)\n",
    "\n",
    "# Naive Bayes on 2D\n",
    "nb_2d = GaussianNB()\n",
    "nb_2d.fit(X_train_2d, y_train)\n",
    "y_pred_nb_2d = nb_2d.predict(X_val_2d)\n",
    "\n",
    "# Calculate metrics for 2D\n",
    "print_metrics(y_val, y_pred_perceptron_2d, \"Perceptron (2D)\")\n",
    "print_metrics(y_val, y_pred_log_reg_2d, \"Logistic Regression (2D)\")\n",
    "print_metrics(y_val, y_pred_nb_2d, \"Naive Bayes (2D)\")\n",
    "\n",
    "# Print coefficients for 2D models\n",
    "print(\"Perceptron 2D Coefficients:\", perceptron_2d.coef_)\n",
    "print(\"Logistic Regression 2D Coefficients:\", log_reg_2d.coef_)"
   ]
  },
  {
   "cell_type": "markdown",
   "id": "311675d6",
   "metadata": {},
   "source": [
    "## Ví dụ 5 (Bài tập tự thực hành)."
   ]
  },
  {
   "cell_type": "code",
   "execution_count": 166,
   "id": "2df670e8",
   "metadata": {},
   "outputs": [],
   "source": [
    "import pandas as pd\n",
    "import numpy as np\n",
    "from sklearn.linear_model import LinearRegression, LogisticRegression, Perceptron\n",
    "from sklearn.naive_bayes import GaussianNB\n",
    "from sklearn.metrics import mean_squared_error, accuracy_score\n",
    "import matplotlib.pyplot as plt"
   ]
  },
  {
   "cell_type": "code",
   "execution_count": 179,
   "id": "5d5d9fd6",
   "metadata": {},
   "outputs": [],
   "source": [
    "data = pd.read_csv('Analysis-Portfolio-Task-Data.csv')"
   ]
  },
  {
   "cell_type": "code",
   "execution_count": 180,
   "id": "75c3c64a",
   "metadata": {},
   "outputs": [],
   "source": [
    "data['Gender'] = data['Gender'].map({'Male': 1, 'Female': 0})"
   ]
  },
  {
   "cell_type": "code",
   "execution_count": 181,
   "id": "8bf66c86",
   "metadata": {},
   "outputs": [],
   "source": [
    "data['Store Type'] = data['Store Type'].map({'Convenient Stores': 0, 'Superstore': 1, 'Online': 2})\n"
   ]
  },
  {
   "cell_type": "code",
   "execution_count": 182,
   "id": "cd70d7e4",
   "metadata": {},
   "outputs": [],
   "source": [
    "data = data.drop('CustomerID', axis=1)"
   ]
  },
  {
   "cell_type": "code",
   "execution_count": 183,
   "id": "558c6d6b",
   "metadata": {},
   "outputs": [
    {
     "data": {
      "text/html": [
       "<div>\n",
       "<style scoped>\n",
       "    .dataframe tbody tr th:only-of-type {\n",
       "        vertical-align: middle;\n",
       "    }\n",
       "\n",
       "    .dataframe tbody tr th {\n",
       "        vertical-align: top;\n",
       "    }\n",
       "\n",
       "    .dataframe thead th {\n",
       "        text-align: right;\n",
       "    }\n",
       "</style>\n",
       "<table border=\"1\" class=\"dataframe\">\n",
       "  <thead>\n",
       "    <tr style=\"text-align: right;\">\n",
       "      <th></th>\n",
       "      <th>Shopping Basket</th>\n",
       "      <th>Gender</th>\n",
       "      <th>Age</th>\n",
       "      <th>Store Type</th>\n",
       "      <th>Value Products</th>\n",
       "      <th>Brand Products</th>\n",
       "      <th>Top Fresco Products</th>\n",
       "    </tr>\n",
       "  </thead>\n",
       "  <tbody>\n",
       "    <tr>\n",
       "      <th>0</th>\n",
       "      <td>48.81</td>\n",
       "      <td>1</td>\n",
       "      <td>26</td>\n",
       "      <td>0</td>\n",
       "      <td>8</td>\n",
       "      <td>2</td>\n",
       "      <td>1</td>\n",
       "    </tr>\n",
       "    <tr>\n",
       "      <th>1</th>\n",
       "      <td>33.44</td>\n",
       "      <td>0</td>\n",
       "      <td>33</td>\n",
       "      <td>1</td>\n",
       "      <td>6</td>\n",
       "      <td>5</td>\n",
       "      <td>1</td>\n",
       "    </tr>\n",
       "    <tr>\n",
       "      <th>2</th>\n",
       "      <td>131.57</td>\n",
       "      <td>1</td>\n",
       "      <td>56</td>\n",
       "      <td>2</td>\n",
       "      <td>35</td>\n",
       "      <td>8</td>\n",
       "      <td>12</td>\n",
       "    </tr>\n",
       "    <tr>\n",
       "      <th>3</th>\n",
       "      <td>20.02</td>\n",
       "      <td>1</td>\n",
       "      <td>27</td>\n",
       "      <td>0</td>\n",
       "      <td>0</td>\n",
       "      <td>1</td>\n",
       "      <td>1</td>\n",
       "    </tr>\n",
       "    <tr>\n",
       "      <th>4</th>\n",
       "      <td>95.54</td>\n",
       "      <td>0</td>\n",
       "      <td>55</td>\n",
       "      <td>2</td>\n",
       "      <td>38</td>\n",
       "      <td>18</td>\n",
       "      <td>20</td>\n",
       "    </tr>\n",
       "    <tr>\n",
       "      <th>...</th>\n",
       "      <td>...</td>\n",
       "      <td>...</td>\n",
       "      <td>...</td>\n",
       "      <td>...</td>\n",
       "      <td>...</td>\n",
       "      <td>...</td>\n",
       "      <td>...</td>\n",
       "    </tr>\n",
       "    <tr>\n",
       "      <th>70</th>\n",
       "      <td>75.23</td>\n",
       "      <td>0</td>\n",
       "      <td>53</td>\n",
       "      <td>1</td>\n",
       "      <td>9</td>\n",
       "      <td>14</td>\n",
       "      <td>5</td>\n",
       "    </tr>\n",
       "    <tr>\n",
       "      <th>71</th>\n",
       "      <td>97.21</td>\n",
       "      <td>0</td>\n",
       "      <td>43</td>\n",
       "      <td>1</td>\n",
       "      <td>18</td>\n",
       "      <td>9</td>\n",
       "      <td>10</td>\n",
       "    </tr>\n",
       "    <tr>\n",
       "      <th>72</th>\n",
       "      <td>77.65</td>\n",
       "      <td>0</td>\n",
       "      <td>46</td>\n",
       "      <td>1</td>\n",
       "      <td>10</td>\n",
       "      <td>10</td>\n",
       "      <td>9</td>\n",
       "    </tr>\n",
       "    <tr>\n",
       "      <th>73</th>\n",
       "      <td>128.67</td>\n",
       "      <td>0</td>\n",
       "      <td>48</td>\n",
       "      <td>1</td>\n",
       "      <td>41</td>\n",
       "      <td>15</td>\n",
       "      <td>19</td>\n",
       "    </tr>\n",
       "    <tr>\n",
       "      <th>74</th>\n",
       "      <td>137.39</td>\n",
       "      <td>1</td>\n",
       "      <td>47</td>\n",
       "      <td>2</td>\n",
       "      <td>26</td>\n",
       "      <td>16</td>\n",
       "      <td>9</td>\n",
       "    </tr>\n",
       "  </tbody>\n",
       "</table>\n",
       "<p>75 rows × 7 columns</p>\n",
       "</div>"
      ],
      "text/plain": [
       "    Shopping Basket  Gender  Age  Store Type  Value Products  Brand Products  \\\n",
       "0             48.81       1   26           0               8               2   \n",
       "1             33.44       0   33           1               6               5   \n",
       "2            131.57       1   56           2              35               8   \n",
       "3             20.02       1   27           0               0               1   \n",
       "4             95.54       0   55           2              38              18   \n",
       "..              ...     ...  ...         ...             ...             ...   \n",
       "70            75.23       0   53           1               9              14   \n",
       "71            97.21       0   43           1              18               9   \n",
       "72            77.65       0   46           1              10              10   \n",
       "73           128.67       0   48           1              41              15   \n",
       "74           137.39       1   47           2              26              16   \n",
       "\n",
       "    Top Fresco Products  \n",
       "0                     1  \n",
       "1                     1  \n",
       "2                    12  \n",
       "3                     1  \n",
       "4                    20  \n",
       "..                  ...  \n",
       "70                    5  \n",
       "71                   10  \n",
       "72                    9  \n",
       "73                   19  \n",
       "74                    9  \n",
       "\n",
       "[75 rows x 7 columns]"
      ]
     },
     "execution_count": 183,
     "metadata": {},
     "output_type": "execute_result"
    }
   ],
   "source": [
    "data"
   ]
  },
  {
   "cell_type": "code",
   "execution_count": 184,
   "id": "1e6b1be0",
   "metadata": {},
   "outputs": [],
   "source": [
    "train_data = data.iloc[:60]\n",
    "test_data = data.iloc[60:]"
   ]
  },
  {
   "cell_type": "code",
   "execution_count": 185,
   "id": "61c2227f",
   "metadata": {},
   "outputs": [],
   "source": [
    "X_train = train_data.drop('Shopping Basket', axis=1)\n",
    "y_train = train_data['Shopping Basket']\n",
    "X_test = test_data.drop('Shopping Basket', axis=1)\n",
    "y_test = test_data['Shopping Basket']"
   ]
  },
  {
   "cell_type": "code",
   "execution_count": 186,
   "id": "0a309faf",
   "metadata": {},
   "outputs": [
    {
     "name": "stdout",
     "output_type": "stream",
     "text": [
      "(60, 6)\n",
      "(60,)\n"
     ]
    }
   ],
   "source": [
    "\n",
    "print(X_train.shape)  # Kiểm tra kích thước của X_train\n",
    "print(y_train.shape)  # Kiểm tra kích thước của y_train\n",
    "\n"
   ]
  },
  {
   "cell_type": "code",
   "execution_count": 187,
   "id": "11e0dd00",
   "metadata": {},
   "outputs": [
    {
     "name": "stdout",
     "output_type": "stream",
     "text": [
      "Gender                 0\n",
      "Age                    0\n",
      "Store Type             0\n",
      "Value Products         0\n",
      "Brand Products         0\n",
      "Top Fresco Products    0\n",
      "dtype: int64\n",
      "0\n"
     ]
    }
   ],
   "source": [
    "print(X_train.isna().sum())  # Kiểm tra số lượng giá trị NaN trong X_train\n",
    "print(y_train.isna().sum())  # Kiểm tra số lượng giá trị NaN trong y_train\n"
   ]
  },
  {
   "cell_type": "code",
   "execution_count": 195,
   "id": "413f3d4a",
   "metadata": {},
   "outputs": [
    {
     "name": "stdout",
     "output_type": "stream",
     "text": [
      "\n",
      "2a) Perceptron:\n",
      "Độ chính xác: 0.80\n",
      "Hệ số của mô hình: [[-17. -46.  37.  81. 132.  51.]]\n",
      "Hệ số chặn (intercept): [-47.]\n"
     ]
    }
   ],
   "source": [
    "lr_model = LinearRegression()\n",
    "lr_model.fit(X_train, y_train)\n",
    "y_pred_lr = lr_model.predict(X_test)\n",
    "\n",
    "\n",
    "accuracy_perceptron = accuracy_score(y_test_class, y_pred_perceptron)\n",
    "print(\"\\n2a) Perceptron:\")\n",
    "print(f\"Độ chính xác: {accuracy_perceptron:.2f}\")\n",
    "print(\"Hệ số của mô hình:\", perceptron_model.coef_)\n",
    "print(\"Hệ số chặn (intercept):\", perceptron_model.intercept_)"
   ]
  },
  {
   "cell_type": "code",
   "execution_count": 190,
   "id": "77b050cf",
   "metadata": {},
   "outputs": [
    {
     "name": "stdout",
     "output_type": "stream",
     "text": [
      "\n",
      "Ý nghĩa của các hệ số:\n",
      "Gender: -2.61 - Mỗi đơn vị tăng trong Gender làm tăng Shopping Basket khoảng -2.61 đơn vị.\n",
      "Age: 0.08 - Mỗi đơn vị tăng trong Age làm tăng Shopping Basket khoảng 0.08 đơn vị.\n",
      "Store Type: 8.71 - Mỗi đơn vị tăng trong Store Type làm tăng Shopping Basket khoảng 8.71 đơn vị.\n",
      "Value Products: 0.99 - Mỗi đơn vị tăng trong Value Products làm tăng Shopping Basket khoảng 0.99 đơn vị.\n",
      "Brand Products: 1.03 - Mỗi đơn vị tăng trong Brand Products làm tăng Shopping Basket khoảng 1.03 đơn vị.\n",
      "Top Fresco Products: 2.44 - Mỗi đơn vị tăng trong Top Fresco Products làm tăng Shopping Basket khoảng 2.44 đơn vị.\n"
     ]
    }
   ],
   "source": [
    "# Giải thích hệ số\n",
    "print(\"\\nÝ nghĩa của các hệ số:\")\n",
    "for i, col in enumerate(X_train.columns):\n",
    "    print(f\"{col}: {lr_model.coef_[i]:.2f} - Mỗi đơn vị tăng trong {col} làm tăng Shopping Basket khoảng {lr_model.coef_[i]:.2f} đơn vị.\")"
   ]
  },
  {
   "cell_type": "code",
   "execution_count": 191,
   "id": "7435e32b",
   "metadata": {},
   "outputs": [],
   "source": [
    "# 2) Phân loại: Shopping Basket > 50 là lớp 1, còn lại là lớp -1\n",
    "y_train_class = np.where(y_train > 50, 1, -1)\n",
    "y_test_class = np.where(y_test > 50, 1, -1)"
   ]
  },
  {
   "cell_type": "code",
   "execution_count": 194,
   "id": "4fa7da61",
   "metadata": {},
   "outputs": [
    {
     "name": "stdout",
     "output_type": "stream",
     "text": [
      "\n",
      "2a) Perceptron:\n",
      "Độ chính xác: 0.80\n",
      "Hệ số của mô hình: [[-17. -46.  37.  81. 132.  51.]]\n",
      "Hệ số chặn (intercept): [-47.]\n"
     ]
    }
   ],
   "source": [
    "# 2a) Perceptron\n",
    "perceptron_model = Perceptron(random_state=2)\n",
    "perceptron_model.fit(X_train, y_train_class)\n",
    "y_pred_perceptron = perceptron_model.predict(X_test)\n",
    "\n",
    "accuracy_perceptron = accuracy_score(y_test_class, y_pred_perceptron)\n",
    "print(\"\\n2a) Perceptron:\")\n",
    "print(f\"Độ chính xác: {accuracy_perceptron:.2f}\")\n",
    "print(\"Hệ số của mô hình:\", perceptron_model.coef_)\n",
    "print(\"Hệ số chặn (intercept):\", perceptron_model.intercept_)"
   ]
  },
  {
   "cell_type": "code",
   "execution_count": 196,
   "id": "02eed806",
   "metadata": {},
   "outputs": [
    {
     "name": "stdout",
     "output_type": "stream",
     "text": [
      "\n",
      "Ý nghĩa của các hệ số Perceptron:\n",
      "Gender: -17.00 - Ảnh hưởng tương đối của Gender đến quyết định phân lớp.\n",
      "Age: -46.00 - Ảnh hưởng tương đối của Age đến quyết định phân lớp.\n",
      "Store Type: 37.00 - Ảnh hưởng tương đối của Store Type đến quyết định phân lớp.\n",
      "Value Products: 81.00 - Ảnh hưởng tương đối của Value Products đến quyết định phân lớp.\n",
      "Brand Products: 132.00 - Ảnh hưởng tương đối của Brand Products đến quyết định phân lớp.\n",
      "Top Fresco Products: 51.00 - Ảnh hưởng tương đối của Top Fresco Products đến quyết định phân lớp.\n"
     ]
    }
   ],
   "source": [
    "# Giải thích hệ số\n",
    "print(\"\\nÝ nghĩa của các hệ số Perceptron:\")\n",
    "for i, col in enumerate(X_train.columns):\n",
    "    print(f\"{col}: {perceptron_model.coef_[0][i]:.2f} - Ảnh hưởng tương đối của {col} đến quyết định phân lớp.\")"
   ]
  },
  {
   "cell_type": "code",
   "execution_count": 197,
   "id": "52ee49d7",
   "metadata": {},
   "outputs": [
    {
     "name": "stdout",
     "output_type": "stream",
     "text": [
      "\n",
      "2b) Hồi quy Logistic:\n",
      "Độ chính xác: 1.00\n",
      "Hệ số của mô hình: [[ 0.27493706  0.09229302  0.95184175  0.33188493  0.54348448 -0.07898914]]\n",
      "Hệ số chặn (intercept): [-11.23670585]\n"
     ]
    }
   ],
   "source": [
    "# 2b) Hồi quy Logistic\n",
    "logistic_model = LogisticRegression(random_state=2)\n",
    "logistic_model.fit(X_train, y_train_class)\n",
    "y_pred_logistic = logistic_model.predict(X_test)\n",
    "\n",
    "accuracy_logistic = accuracy_score(y_test_class, y_pred_logistic)\n",
    "print(\"\\n2b) Hồi quy Logistic:\")\n",
    "print(f\"Độ chính xác: {accuracy_logistic:.2f}\")\n",
    "print(\"Hệ số của mô hình:\", logistic_model.coef_)\n",
    "print(\"Hệ số chặn (intercept):\", logistic_model.intercept_)"
   ]
  },
  {
   "cell_type": "code",
   "execution_count": 198,
   "id": "ee516333",
   "metadata": {},
   "outputs": [
    {
     "name": "stdout",
     "output_type": "stream",
     "text": [
      "\n",
      "Ý nghĩa của các hệ số Hồi quy Logistic:\n",
      "Gender: 0.27 - Ảnh hưởng của Gender đến log-odds của lớp 1.\n",
      "Age: 0.09 - Ảnh hưởng của Age đến log-odds của lớp 1.\n",
      "Store Type: 0.95 - Ảnh hưởng của Store Type đến log-odds của lớp 1.\n",
      "Value Products: 0.33 - Ảnh hưởng của Value Products đến log-odds của lớp 1.\n",
      "Brand Products: 0.54 - Ảnh hưởng của Brand Products đến log-odds của lớp 1.\n",
      "Top Fresco Products: -0.08 - Ảnh hưởng của Top Fresco Products đến log-odds của lớp 1.\n"
     ]
    }
   ],
   "source": [
    "# Giải thích hệ số\n",
    "print(\"\\nÝ nghĩa của các hệ số Hồi quy Logistic:\")\n",
    "for i, col in enumerate(X_train.columns):\n",
    "    print(f\"{col}: {logistic_model.coef_[0][i]:.2f} - Ảnh hưởng của {col} đến log-odds của lớp 1.\")"
   ]
  },
  {
   "cell_type": "code",
   "execution_count": null,
   "id": "1007e8b9",
   "metadata": {},
   "outputs": [
    {
     "name": "stdout",
     "output_type": "stream",
     "text": [
      "\n",
      "2c) Naïve Bayes:\n",
      "Độ chính xác: 1.00\n",
      "\n",
      "Naïve Bayes không có hệ số tuyến tính, nó dựa trên xác suất có điều kiện của các đặc trưng.\n"
     ]
    }
   ],
   "source": [
    "# 2c) Naïve Bayes\n",
    "nb_model = GaussianNB()\n",
    "nb_model.fit(X_train, y_train_class)\n",
    "y_pred_nb = nb_model.predict(X_test)\n",
    "\n",
    "accuracy_nb = accuracy_score(y_test_class, y_pred_nb)\n",
    "print(\"\\n2c) Naïve Bayes:\")\n",
    "print(f\"Độ chính xác: {accuracy_nb:.2f}\")\n",
    "\n",
    "print(\"\\nNaïve Bayes không có hệ số tuyến tính, nó dựa trên xác suất có điều kiện của các đặc trưng.\")"
   ]
  },
  {
   "cell_type": "code",
   "execution_count": 201,
   "id": "51fee30e",
   "metadata": {},
   "outputs": [
    {
     "name": "stdout",
     "output_type": "stream",
     "text": [
      "\n",
      "So sánh các mô hình phân loại:\n",
      "Perceptron Accuracy: 0.80\n",
      "Logistic Regression Accuracy: 1.00\n",
      "Naïve Bayes Accuracy: 1.00\n"
     ]
    },
    {
     "data": {
      "image/png": "[encoded data removed]",
      "text/plain": [
       "<Figure size 640x480 with 1 Axes>"
      ]
     },
     "metadata": {},
     "output_type": "display_data"
    }
   ],
   "source": [
    "# So sánh các mô hình\n",
    "print(\"\\nSo sánh các mô hình phân loại:\")\n",
    "print(f\"Perceptron Accuracy: {accuracy_perceptron:.2f}\")\n",
    "print(f\"Logistic Regression Accuracy: {accuracy_logistic:.2f}\")\n",
    "print(f\"Naïve Bayes Accuracy: {accuracy_nb:.2f}\")\n",
    "\n",
    "# Vẽ biểu đồ so sánh\n",
    "plt.bar(['Perceptron', 'Logistic', 'Naïve Bayes'], \n",
    "        [accuracy_perceptron, accuracy_logistic, accuracy_nb])\n",
    "plt.title('So sánh độ chính xác của các mô hình phân loại')\n",
    "plt.ylabel('Độ chính xác')\n",
    "plt.show()"
   ]
  }
 ],
 "metadata": {
  "kernelspec": {
   "display_name": "Python 3",
   "language": "python",
   "name": "python3"
  },
  "language_info": {
   "codemirror_mode": {
    "name": "ipython",
    "version": 3
   },
   "file_extension": ".py",
   "mimetype": "text/x-python",
   "name": "python",
   "nbconvert_exporter": "python",
   "pygments_lexer": "ipython3",
   "version": "3.12.0"
  }
 },
 "nbformat": 4,
 "nbformat_minor": 5
}
